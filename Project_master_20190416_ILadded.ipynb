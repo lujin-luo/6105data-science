{
 "cells": [
  {
   "cell_type": "markdown",
   "metadata": {},
   "source": [
    "# 1 Columns - Definition"
   ]
  },
  {
   "cell_type": "markdown",
   "metadata": {},
   "source": [
    "The time period for this data is between Jan 1st, 2010 to Dec 31st, 2015. Missing data are denoted as NA.   \n",
    "No: row number   \n",
    "year: year of data in this row   \n",
    "month: month of data in this row   \n",
    "day: day of data in this row    \n",
    "hour: hour of data in this row   \n",
    "season: season of data in this row    \n",
    "PM: PM2.5 concentration (ug/m^3)    \n",
    "DEWP: Dew Point (Celsius Degree)    \n",
    "TEMP: Temperature (Celsius Degree)    \n",
    "HUMI: Humidity (%)    \n",
    "PRES: Pressure (hPa)    \n",
    "cbwd: Combined wind direction    \n",
    "Iws: Cumulated wind speed (m/s)    \n",
    "precipitation: hourly precipitation (mm)    \n",
    "Iprec: Cumulated precipitation (mm)"
   ]
  },
  {
   "cell_type": "markdown",
   "metadata": {},
   "source": [
    "# 2 Load and prepare the data"
   ]
  },
  {
   "cell_type": "markdown",
   "metadata": {},
   "source": [
    "### 2.1 Import Package"
   ]
  },
  {
   "cell_type": "code",
   "execution_count": 1,
   "metadata": {},
   "outputs": [],
   "source": [
    "import pandas as pd\n",
    "from sklearn import preprocessing\n",
    "from sklearn.neighbors import KNeighborsClassifier\n",
    "from sklearn.metrics import confusion_matrix,accuracy_score,matthews_corrcoef,f1_score\n",
    "from sklearn.externals import joblib\n",
    "import joblib\n",
    "from matplotlib import pyplot as plt\n",
    "import seaborn as sns\n",
    "import numpy as np\n",
    "%matplotlib inline\n",
    "# ignore warnings\n",
    "import warnings\n",
    "warnings.filterwarnings('ignore')"
   ]
  },
  {
   "cell_type": "code",
   "execution_count": 2,
   "metadata": {},
   "outputs": [
    {
     "name": "stdout",
     "output_type": "stream",
     "text": [
      "Final Presentation-PM2.5 Based Air Quality Index Prediction and Insights Sharing.pptx\r\n",
      "Project_master_20190416.ipynb\r\n",
      "Project_master_20190416_changed.ipynb\r\n",
      "README.md\r\n",
      "\u001b[34mfinal\u001b[m\u001b[m/\r\n",
      "final_presentation_v0.1.pptx\r\n",
      "\u001b[34mintermediate\u001b[m\u001b[m/\r\n",
      "\u001b[34mraw\u001b[m\u001b[m/\r\n",
      "~$Final Presentation-PM2.5 Based Air Quality Index Prediction and Insights Sharing.pptx\r\n"
     ]
    }
   ],
   "source": [
    "%pwd\n",
    "%ls"
   ]
  },
  {
   "cell_type": "code",
   "execution_count": 3,
   "metadata": {},
   "outputs": [],
   "source": [
    "#my_path='C:\\\\Users\\\\carri\\\\Jupyter\\\\NEU-6105 Data Sci Eng Methods\\\\Project'\n",
    "#df = pd.read_csv(f'{my_path}/raw/BeijingPM20100101_20151231.csv')\n",
    "my_path=%pwd\n",
    "df=pd.read_csv(f'{my_path}/raw/BeijingPM20100101_20151231.csv')"
   ]
  },
  {
   "cell_type": "code",
   "execution_count": 4,
   "metadata": {
    "scrolled": true
   },
   "outputs": [
    {
     "name": "stdout",
     "output_type": "stream",
     "text": [
      "<class 'pandas.core.frame.DataFrame'>\n",
      "RangeIndex: 52584 entries, 0 to 52583\n",
      "Data columns (total 18 columns):\n",
      "No                 52584 non-null int64\n",
      "year               52584 non-null int64\n",
      "month              52584 non-null int64\n",
      "day                52584 non-null int64\n",
      "hour               52584 non-null int64\n",
      "season             52584 non-null int64\n",
      "PM_Dongsi          25052 non-null float64\n",
      "PM_Dongsihuan      20508 non-null float64\n",
      "PM_Nongzhanguan    24931 non-null float64\n",
      "PM_US Post         50387 non-null float64\n",
      "DEWP               52579 non-null float64\n",
      "HUMI               52245 non-null float64\n",
      "PRES               52245 non-null float64\n",
      "TEMP               52579 non-null float64\n",
      "cbwd               52579 non-null object\n",
      "Iws                52579 non-null float64\n",
      "precipitation      52100 non-null float64\n",
      "Iprec              52100 non-null float64\n",
      "dtypes: float64(11), int64(6), object(1)\n",
      "memory usage: 7.2+ MB\n"
     ]
    }
   ],
   "source": [
    "df.info()"
   ]
  },
  {
   "cell_type": "markdown",
   "metadata": {},
   "source": [
    "### 2.2 Drop Rows and Columns"
   ]
  },
  {
   "cell_type": "code",
   "execution_count": 5,
   "metadata": {},
   "outputs": [
    {
     "data": {
      "text/plain": [
       "<matplotlib.axes._subplots.AxesSubplot at 0x1a1db1bdd8>"
      ]
     },
     "execution_count": 5,
     "metadata": {},
     "output_type": "execute_result"
    },
    {
     "data": {
      "image/png": "[encoded data removed]",
      "text/plain": [
       "<Figure size 720x432 with 1 Axes>"
      ]
     },
     "metadata": {
      "needs_background": "light"
     },
     "output_type": "display_data"
    }
   ],
   "source": [
    "null_vals = df.isnull().sum()/len(df)*100\n",
    "null_vals = pd.DataFrame(null_vals)\n",
    "null_vals.reset_index(inplace = True)\n",
    "null_vals.columns = [\"Feature\",\"Percent missing\"]\n",
    "plt.figure(figsize = (10,6))\n",
    "plt.xticks(rotation=90)\n",
    "sns.barplot(x = \"Feature\",y =\"Percent missing\",data = null_vals)"
   ]
  },
  {
   "cell_type": "code",
   "execution_count": 6,
   "metadata": {},
   "outputs": [],
   "source": [
    "# drop the largest amount of null column among 2 PM locations and useless index column \n",
    "df = df.drop([\"No\",\"PM_Nongzhanguan\",\"PM_Dongsihuan\"],axis = 1)"
   ]
  },
  {
   "cell_type": "code",
   "execution_count": 7,
   "metadata": {
    "scrolled": true
   },
   "outputs": [],
   "source": [
    "# drop any rows with null value\n",
    "df=df.dropna(axis=0, how=\"any\")"
   ]
  },
  {
   "cell_type": "code",
   "execution_count": 8,
   "metadata": {},
   "outputs": [
    {
     "name": "stdout",
     "output_type": "stream",
     "text": [
      "<class 'pandas.core.frame.DataFrame'>\n",
      "Int64Index: 23951 entries, 26694 to 52582\n",
      "Data columns (total 15 columns):\n",
      "year             23951 non-null int64\n",
      "month            23951 non-null int64\n",
      "day              23951 non-null int64\n",
      "hour             23951 non-null int64\n",
      "season           23951 non-null int64\n",
      "PM_Dongsi        23951 non-null float64\n",
      "PM_US Post       23951 non-null float64\n",
      "DEWP             23951 non-null float64\n",
      "HUMI             23951 non-null float64\n",
      "PRES             23951 non-null float64\n",
      "TEMP             23951 non-null float64\n",
      "cbwd             23951 non-null object\n",
      "Iws              23951 non-null float64\n",
      "precipitation    23951 non-null float64\n",
      "Iprec            23951 non-null float64\n",
      "dtypes: float64(9), int64(5), object(1)\n",
      "memory usage: 2.9+ MB\n"
     ]
    }
   ],
   "source": [
    "df.info()"
   ]
  },
  {
   "cell_type": "markdown",
   "metadata": {},
   "source": [
    "## 2.3 Encoding Categorical Features"
   ]
  },
  {
   "cell_type": "code",
   "execution_count": 9,
   "metadata": {},
   "outputs": [
    {
     "data": {
      "text/plain": [
       "SE    8454\n",
       "NW    7082\n",
       "SW    5481\n",
       "NE    2934\n",
       "Name: cbwd, dtype: int64"
      ]
     },
     "execution_count": 9,
     "metadata": {},
     "output_type": "execute_result"
    }
   ],
   "source": [
    "# change \"cv\"\" in cbwd to \"SW\"\n",
    "# This is a type from original dataset\n",
    "df['cbwd'] = df['cbwd'].replace('cv', 'SW')\n",
    "df['cbwd'].value_counts()"
   ]
  },
  {
   "cell_type": "code",
   "execution_count": 10,
   "metadata": {},
   "outputs": [],
   "source": [
    "from sklearn.preprocessing import LabelEncoder\n",
    "enc = LabelEncoder()\n",
    "df[\"cbwd\"] = enc.fit_transform(df[\"cbwd\"])"
   ]
  },
  {
   "cell_type": "code",
   "execution_count": 11,
   "metadata": {
    "scrolled": true
   },
   "outputs": [
    {
     "data": {
      "text/html": [
       "<div>\n",
       "<style scoped>\n",
       "    .dataframe tbody tr th:only-of-type {\n",
       "        vertical-align: middle;\n",
       "    }\n",
       "\n",
       "    .dataframe tbody tr th {\n",
       "        vertical-align: top;\n",
       "    }\n",
       "\n",
       "    .dataframe thead th {\n",
       "        text-align: right;\n",
       "    }\n",
       "</style>\n",
       "<table border=\"1\" class=\"dataframe\">\n",
       "  <thead>\n",
       "    <tr style=\"text-align: right;\">\n",
       "      <th></th>\n",
       "      <th>year</th>\n",
       "      <th>month</th>\n",
       "      <th>day</th>\n",
       "      <th>hour</th>\n",
       "      <th>season</th>\n",
       "      <th>PM_Dongsi</th>\n",
       "      <th>PM_US Post</th>\n",
       "      <th>DEWP</th>\n",
       "      <th>HUMI</th>\n",
       "      <th>PRES</th>\n",
       "      <th>TEMP</th>\n",
       "      <th>cbwd</th>\n",
       "      <th>Iws</th>\n",
       "      <th>precipitation</th>\n",
       "      <th>Iprec</th>\n",
       "    </tr>\n",
       "  </thead>\n",
       "  <tbody>\n",
       "    <tr>\n",
       "      <th>26694</th>\n",
       "      <td>2013</td>\n",
       "      <td>1</td>\n",
       "      <td>17</td>\n",
       "      <td>6</td>\n",
       "      <td>4</td>\n",
       "      <td>25.0</td>\n",
       "      <td>34.0</td>\n",
       "      <td>-17.0</td>\n",
       "      <td>56.0</td>\n",
       "      <td>1038.0</td>\n",
       "      <td>-10.0</td>\n",
       "      <td>1</td>\n",
       "      <td>4.92</td>\n",
       "      <td>0.0</td>\n",
       "      <td>0.0</td>\n",
       "    </tr>\n",
       "    <tr>\n",
       "      <th>26695</th>\n",
       "      <td>2013</td>\n",
       "      <td>1</td>\n",
       "      <td>17</td>\n",
       "      <td>7</td>\n",
       "      <td>4</td>\n",
       "      <td>22.0</td>\n",
       "      <td>33.0</td>\n",
       "      <td>-16.0</td>\n",
       "      <td>52.0</td>\n",
       "      <td>1039.0</td>\n",
       "      <td>-8.0</td>\n",
       "      <td>0</td>\n",
       "      <td>4.92</td>\n",
       "      <td>0.0</td>\n",
       "      <td>0.0</td>\n",
       "    </tr>\n",
       "    <tr>\n",
       "      <th>26696</th>\n",
       "      <td>2013</td>\n",
       "      <td>1</td>\n",
       "      <td>17</td>\n",
       "      <td>8</td>\n",
       "      <td>4</td>\n",
       "      <td>20.0</td>\n",
       "      <td>33.0</td>\n",
       "      <td>-16.0</td>\n",
       "      <td>45.0</td>\n",
       "      <td>1040.0</td>\n",
       "      <td>-6.0</td>\n",
       "      <td>0</td>\n",
       "      <td>8.94</td>\n",
       "      <td>0.0</td>\n",
       "      <td>0.0</td>\n",
       "    </tr>\n",
       "    <tr>\n",
       "      <th>26697</th>\n",
       "      <td>2013</td>\n",
       "      <td>1</td>\n",
       "      <td>17</td>\n",
       "      <td>9</td>\n",
       "      <td>4</td>\n",
       "      <td>24.0</td>\n",
       "      <td>34.0</td>\n",
       "      <td>-16.0</td>\n",
       "      <td>38.0</td>\n",
       "      <td>1040.0</td>\n",
       "      <td>-4.0</td>\n",
       "      <td>0</td>\n",
       "      <td>12.07</td>\n",
       "      <td>0.0</td>\n",
       "      <td>0.0</td>\n",
       "    </tr>\n",
       "    <tr>\n",
       "      <th>26698</th>\n",
       "      <td>2013</td>\n",
       "      <td>1</td>\n",
       "      <td>17</td>\n",
       "      <td>10</td>\n",
       "      <td>4</td>\n",
       "      <td>27.0</td>\n",
       "      <td>38.0</td>\n",
       "      <td>-16.0</td>\n",
       "      <td>35.0</td>\n",
       "      <td>1040.0</td>\n",
       "      <td>-3.0</td>\n",
       "      <td>0</td>\n",
       "      <td>16.09</td>\n",
       "      <td>0.0</td>\n",
       "      <td>0.0</td>\n",
       "    </tr>\n",
       "  </tbody>\n",
       "</table>\n",
       "</div>"
      ],
      "text/plain": [
       "       year  month  day  hour  season  PM_Dongsi  PM_US Post  DEWP  HUMI  \\\n",
       "26694  2013      1   17     6       4       25.0        34.0 -17.0  56.0   \n",
       "26695  2013      1   17     7       4       22.0        33.0 -16.0  52.0   \n",
       "26696  2013      1   17     8       4       20.0        33.0 -16.0  45.0   \n",
       "26697  2013      1   17     9       4       24.0        34.0 -16.0  38.0   \n",
       "26698  2013      1   17    10       4       27.0        38.0 -16.0  35.0   \n",
       "\n",
       "         PRES  TEMP  cbwd    Iws  precipitation  Iprec  \n",
       "26694  1038.0 -10.0     1   4.92            0.0    0.0  \n",
       "26695  1039.0  -8.0     0   4.92            0.0    0.0  \n",
       "26696  1040.0  -6.0     0   8.94            0.0    0.0  \n",
       "26697  1040.0  -4.0     0  12.07            0.0    0.0  \n",
       "26698  1040.0  -3.0     0  16.09            0.0    0.0  "
      ]
     },
     "execution_count": 11,
     "metadata": {},
     "output_type": "execute_result"
    }
   ],
   "source": [
    "df.head()"
   ]
  },
  {
   "cell_type": "code",
   "execution_count": 12,
   "metadata": {},
   "outputs": [],
   "source": [
    "# categorize the PM 2.5 into 6 categories\n",
    "#    PM 2.5    -    Category\n",
    "#   [0, 35]            1\n",
    "#   (35, 75]           2\n",
    "#  (75, 115]           3\n",
    "# (115, 150]           4\n",
    "# (150, 250]           5\n",
    "# (250 -               6\n",
    "df[\"PM_US Post\"] = pd.cut(df[\"PM_US Post\"],[-1,35,75,115,150,250,float(\"inf\")],labels=[1,2,3,4,5,6])\n",
    "df[\"PM_Dongsi\"] = pd.cut(df[\"PM_Dongsi\"],[-1,35,75,115,150,250,float(\"inf\")],labels=[1,2,3,4,5,6])"
   ]
  },
  {
   "cell_type": "code",
   "execution_count": 13,
   "metadata": {
    "scrolled": true
   },
   "outputs": [
    {
     "name": "stdout",
     "output_type": "stream",
     "text": [
      "<class 'pandas.core.frame.DataFrame'>\n",
      "Int64Index: 23951 entries, 26694 to 52582\n",
      "Data columns (total 15 columns):\n",
      "year             23951 non-null int64\n",
      "month            23951 non-null int64\n",
      "day              23951 non-null int64\n",
      "hour             23951 non-null int64\n",
      "season           23951 non-null int64\n",
      "PM_Dongsi        23951 non-null category\n",
      "PM_US Post       23951 non-null category\n",
      "DEWP             23951 non-null float64\n",
      "HUMI             23951 non-null float64\n",
      "PRES             23951 non-null float64\n",
      "TEMP             23951 non-null float64\n",
      "cbwd             23951 non-null int64\n",
      "Iws              23951 non-null float64\n",
      "precipitation    23951 non-null float64\n",
      "Iprec            23951 non-null float64\n",
      "dtypes: category(2), float64(7), int64(6)\n",
      "memory usage: 2.6 MB\n"
     ]
    }
   ],
   "source": [
    "df.info()"
   ]
  },
  {
   "cell_type": "code",
   "execution_count": 14,
   "metadata": {},
   "outputs": [
    {
     "name": "stdout",
     "output_type": "stream",
     "text": [
      "Int64Index([1, 2, 3, 4, 5, 6], dtype='int64')\n"
     ]
    }
   ],
   "source": [
    "print(df.PM_Dongsi.cat.categories)"
   ]
  },
  {
   "cell_type": "code",
   "execution_count": 15,
   "metadata": {},
   "outputs": [],
   "source": [
    "df['PM_Dongsi']= df['PM_Dongsi'].astype('int64')\n",
    "df['PM_US Post']= df['PM_US Post'].astype('int64')"
   ]
  },
  {
   "cell_type": "code",
   "execution_count": 16,
   "metadata": {},
   "outputs": [
    {
     "name": "stdout",
     "output_type": "stream",
     "text": [
      "<class 'pandas.core.frame.DataFrame'>\n",
      "Int64Index: 23951 entries, 26694 to 52582\n",
      "Data columns (total 15 columns):\n",
      "year             23951 non-null int64\n",
      "month            23951 non-null int64\n",
      "day              23951 non-null int64\n",
      "hour             23951 non-null int64\n",
      "season           23951 non-null int64\n",
      "PM_Dongsi        23951 non-null int64\n",
      "PM_US Post       23951 non-null int64\n",
      "DEWP             23951 non-null float64\n",
      "HUMI             23951 non-null float64\n",
      "PRES             23951 non-null float64\n",
      "TEMP             23951 non-null float64\n",
      "cbwd             23951 non-null int64\n",
      "Iws              23951 non-null float64\n",
      "precipitation    23951 non-null float64\n",
      "Iprec            23951 non-null float64\n",
      "dtypes: float64(7), int64(8)\n",
      "memory usage: 2.9 MB\n"
     ]
    }
   ],
   "source": [
    "df.info()"
   ]
  },
  {
   "cell_type": "code",
   "execution_count": 17,
   "metadata": {
    "scrolled": true
   },
   "outputs": [
    {
     "data": {
      "text/html": [
       "<div>\n",
       "<style scoped>\n",
       "    .dataframe tbody tr th:only-of-type {\n",
       "        vertical-align: middle;\n",
       "    }\n",
       "\n",
       "    .dataframe tbody tr th {\n",
       "        vertical-align: top;\n",
       "    }\n",
       "\n",
       "    .dataframe thead th {\n",
       "        text-align: right;\n",
       "    }\n",
       "</style>\n",
       "<table border=\"1\" class=\"dataframe\">\n",
       "  <thead>\n",
       "    <tr style=\"text-align: right;\">\n",
       "      <th></th>\n",
       "      <th>year</th>\n",
       "      <th>month</th>\n",
       "      <th>day</th>\n",
       "      <th>hour</th>\n",
       "      <th>season</th>\n",
       "      <th>PM_Dongsi</th>\n",
       "      <th>PM_US Post</th>\n",
       "      <th>DEWP</th>\n",
       "      <th>HUMI</th>\n",
       "      <th>PRES</th>\n",
       "      <th>TEMP</th>\n",
       "      <th>cbwd</th>\n",
       "      <th>Iws</th>\n",
       "      <th>precipitation</th>\n",
       "      <th>Iprec</th>\n",
       "    </tr>\n",
       "  </thead>\n",
       "  <tbody>\n",
       "    <tr>\n",
       "      <th>26694</th>\n",
       "      <td>2013</td>\n",
       "      <td>1</td>\n",
       "      <td>17</td>\n",
       "      <td>6</td>\n",
       "      <td>4</td>\n",
       "      <td>1</td>\n",
       "      <td>1</td>\n",
       "      <td>-17.0</td>\n",
       "      <td>56.0</td>\n",
       "      <td>1038.0</td>\n",
       "      <td>-10.0</td>\n",
       "      <td>1</td>\n",
       "      <td>4.92</td>\n",
       "      <td>0.0</td>\n",
       "      <td>0.0</td>\n",
       "    </tr>\n",
       "    <tr>\n",
       "      <th>26695</th>\n",
       "      <td>2013</td>\n",
       "      <td>1</td>\n",
       "      <td>17</td>\n",
       "      <td>7</td>\n",
       "      <td>4</td>\n",
       "      <td>1</td>\n",
       "      <td>1</td>\n",
       "      <td>-16.0</td>\n",
       "      <td>52.0</td>\n",
       "      <td>1039.0</td>\n",
       "      <td>-8.0</td>\n",
       "      <td>0</td>\n",
       "      <td>4.92</td>\n",
       "      <td>0.0</td>\n",
       "      <td>0.0</td>\n",
       "    </tr>\n",
       "    <tr>\n",
       "      <th>26696</th>\n",
       "      <td>2013</td>\n",
       "      <td>1</td>\n",
       "      <td>17</td>\n",
       "      <td>8</td>\n",
       "      <td>4</td>\n",
       "      <td>1</td>\n",
       "      <td>1</td>\n",
       "      <td>-16.0</td>\n",
       "      <td>45.0</td>\n",
       "      <td>1040.0</td>\n",
       "      <td>-6.0</td>\n",
       "      <td>0</td>\n",
       "      <td>8.94</td>\n",
       "      <td>0.0</td>\n",
       "      <td>0.0</td>\n",
       "    </tr>\n",
       "    <tr>\n",
       "      <th>26697</th>\n",
       "      <td>2013</td>\n",
       "      <td>1</td>\n",
       "      <td>17</td>\n",
       "      <td>9</td>\n",
       "      <td>4</td>\n",
       "      <td>1</td>\n",
       "      <td>1</td>\n",
       "      <td>-16.0</td>\n",
       "      <td>38.0</td>\n",
       "      <td>1040.0</td>\n",
       "      <td>-4.0</td>\n",
       "      <td>0</td>\n",
       "      <td>12.07</td>\n",
       "      <td>0.0</td>\n",
       "      <td>0.0</td>\n",
       "    </tr>\n",
       "    <tr>\n",
       "      <th>26698</th>\n",
       "      <td>2013</td>\n",
       "      <td>1</td>\n",
       "      <td>17</td>\n",
       "      <td>10</td>\n",
       "      <td>4</td>\n",
       "      <td>1</td>\n",
       "      <td>2</td>\n",
       "      <td>-16.0</td>\n",
       "      <td>35.0</td>\n",
       "      <td>1040.0</td>\n",
       "      <td>-3.0</td>\n",
       "      <td>0</td>\n",
       "      <td>16.09</td>\n",
       "      <td>0.0</td>\n",
       "      <td>0.0</td>\n",
       "    </tr>\n",
       "  </tbody>\n",
       "</table>\n",
       "</div>"
      ],
      "text/plain": [
       "       year  month  day  hour  season  PM_Dongsi  PM_US Post  DEWP  HUMI  \\\n",
       "26694  2013      1   17     6       4          1           1 -17.0  56.0   \n",
       "26695  2013      1   17     7       4          1           1 -16.0  52.0   \n",
       "26696  2013      1   17     8       4          1           1 -16.0  45.0   \n",
       "26697  2013      1   17     9       4          1           1 -16.0  38.0   \n",
       "26698  2013      1   17    10       4          1           2 -16.0  35.0   \n",
       "\n",
       "         PRES  TEMP  cbwd    Iws  precipitation  Iprec  \n",
       "26694  1038.0 -10.0     1   4.92            0.0    0.0  \n",
       "26695  1039.0  -8.0     0   4.92            0.0    0.0  \n",
       "26696  1040.0  -6.0     0   8.94            0.0    0.0  \n",
       "26697  1040.0  -4.0     0  12.07            0.0    0.0  \n",
       "26698  1040.0  -3.0     0  16.09            0.0    0.0  "
      ]
     },
     "execution_count": 17,
     "metadata": {},
     "output_type": "execute_result"
    }
   ],
   "source": [
    "df.head()"
   ]
  },
  {
   "cell_type": "markdown",
   "metadata": {},
   "source": [
    "### 2.4 Corelation plot"
   ]
  },
  {
   "cell_type": "code",
   "execution_count": 18,
   "metadata": {
    "scrolled": true
   },
   "outputs": [
    {
     "data": {
      "image/png": "[encoded data removed]",
      "text/plain": [
       "<Figure size 1080x288 with 2 Axes>"
      ]
     },
     "metadata": {
      "needs_background": "light"
     },
     "output_type": "display_data"
    }
   ],
   "source": [
    "fig,ax = plt.subplots(figsize=(15,4))\n",
    "mask=np.zeros_like(df.corr(),dtype=np.bool)\n",
    "mask[np.triu_indices_from(mask)]=True\n",
    "sns.heatmap(df.corr(),mask=mask,ax=ax,annot=True, linewidths=0.1, fmt='.2f',cmap=\"Blues\")\n",
    "plt.show()"
   ]
  },
  {
   "cell_type": "markdown",
   "metadata": {},
   "source": [
    "PM_Dongsi, HUMI(Humidity), cbwd(Combined wind direction), lws(Cumulated wind speed) and TEMP(Temperature) are important to the result of PM_US Post"
   ]
  },
  {
   "cell_type": "markdown",
   "metadata": {},
   "source": [
    "### 2.5 Converting the data to X and Y"
   ]
  },
  {
   "cell_type": "code",
   "execution_count": 19,
   "metadata": {},
   "outputs": [],
   "source": [
    "Y = df[\"PM_US Post\"]\n",
    "X = df.drop(\"PM_US Post\", axis=1)"
   ]
  },
  {
   "cell_type": "markdown",
   "metadata": {},
   "source": [
    "### 2.6 Splitting the data into train, validation and test sets"
   ]
  },
  {
   "cell_type": "code",
   "execution_count": 20,
   "metadata": {
    "scrolled": true
   },
   "outputs": [
    {
     "name": "stdout",
     "output_type": "stream",
     "text": [
      "(21076, 14) (21076,) (2875, 14) (2875,)\n"
     ]
    }
   ],
   "source": [
    "from sklearn.model_selection import train_test_split\n",
    "X_train_val,X_test,Y_train_val,Y_test = train_test_split(X,Y,test_size = 0.12, random_state=666)\n",
    "print(X_train_val.shape, Y_train_val.shape, X_test.shape, Y_test.shape)"
   ]
  },
  {
   "cell_type": "markdown",
   "metadata": {},
   "source": [
    "### 2.7 Feature Selection"
   ]
  },
  {
   "cell_type": "code",
   "execution_count": 21,
   "metadata": {},
   "outputs": [],
   "source": [
    "from sklearn.ensemble import ExtraTreesClassifier\n",
    "from sklearn.feature_selection import SelectFromModel"
   ]
  },
  {
   "cell_type": "code",
   "execution_count": 22,
   "metadata": {},
   "outputs": [
    {
     "data": {
      "text/plain": [
       "array([0.03213498, 0.03814884, 0.05917781, 0.05980965, 0.01785717,\n",
       "       0.41372672, 0.06554268, 0.07406561, 0.06046679, 0.05825395,\n",
       "       0.04744097, 0.06348819, 0.004581  , 0.00530566])"
      ]
     },
     "execution_count": 22,
     "metadata": {},
     "output_type": "execute_result"
    }
   ],
   "source": [
    "clf=ExtraTreesClassifier()\n",
    "clf=clf.fit(X_train_val,Y_train_val)\n",
    "clf.feature_importances_"
   ]
  },
  {
   "cell_type": "code",
   "execution_count": 23,
   "metadata": {},
   "outputs": [],
   "source": [
    "model=SelectFromModel(clf,threshold=0.04,prefit=True)\n",
    "model.transform(X_train_val)\n",
    "feature_idx=model.get_support()\n",
    "feature_name=X_train_val.columns[feature_idx]"
   ]
  },
  {
   "cell_type": "code",
   "execution_count": 24,
   "metadata": {},
   "outputs": [
    {
     "name": "stdout",
     "output_type": "stream",
     "text": [
      "Index(['day', 'hour', 'PM_Dongsi', 'DEWP', 'HUMI', 'PRES', 'TEMP', 'cbwd',\n",
      "       'Iws'],\n",
      "      dtype='object')\n"
     ]
    }
   ],
   "source": [
    "print(feature_name)"
   ]
  },
  {
   "cell_type": "code",
   "execution_count": 25,
   "metadata": {
    "scrolled": true
   },
   "outputs": [
    {
     "name": "stdout",
     "output_type": "stream",
     "text": [
      "(21076, 9) (21076,) (2875, 9) (2875,)\n"
     ]
    }
   ],
   "source": [
    "X_fs = df[list(feature_name)]\n",
    "X_train_val_fs,X_test_fs,Y_train_val,Y_test = train_test_split(X_fs,Y,test_size = 0.12, random_state=666)\n",
    "print(X_train_val_fs.shape, Y_train_val.shape, X_test_fs.shape, Y_test.shape)"
   ]
  },
  {
   "cell_type": "code",
   "execution_count": 26,
   "metadata": {
    "scrolled": false
   },
   "outputs": [
    {
     "name": "stdout",
     "output_type": "stream",
     "text": [
      "(18125, 9) (18125,) (2951, 9) (2951,)\n"
     ]
    }
   ],
   "source": [
    "X_train_fs,X_val_fs,Y_train,Y_val = train_test_split(X_train_val_fs,Y_train_val,test_size = 0.14, random_state=666)\n",
    "print(X_train_fs.shape, Y_train.shape, X_val_fs.shape, Y_val.shape)"
   ]
  },
  {
   "cell_type": "code",
   "execution_count": 27,
   "metadata": {
    "scrolled": false
   },
   "outputs": [
    {
     "data": {
      "text/html": [
       "<div>\n",
       "<style scoped>\n",
       "    .dataframe tbody tr th:only-of-type {\n",
       "        vertical-align: middle;\n",
       "    }\n",
       "\n",
       "    .dataframe tbody tr th {\n",
       "        vertical-align: top;\n",
       "    }\n",
       "\n",
       "    .dataframe thead th {\n",
       "        text-align: right;\n",
       "    }\n",
       "</style>\n",
       "<table border=\"1\" class=\"dataframe\">\n",
       "  <thead>\n",
       "    <tr style=\"text-align: right;\">\n",
       "      <th></th>\n",
       "      <th>day</th>\n",
       "      <th>hour</th>\n",
       "      <th>PM_Dongsi</th>\n",
       "      <th>DEWP</th>\n",
       "      <th>HUMI</th>\n",
       "      <th>PRES</th>\n",
       "      <th>TEMP</th>\n",
       "      <th>cbwd</th>\n",
       "      <th>Iws</th>\n",
       "    </tr>\n",
       "  </thead>\n",
       "  <tbody>\n",
       "    <tr>\n",
       "      <th>count</th>\n",
       "      <td>21076.000000</td>\n",
       "      <td>21076.000000</td>\n",
       "      <td>21076.000000</td>\n",
       "      <td>21076.000000</td>\n",
       "      <td>21076.000000</td>\n",
       "      <td>21076.000000</td>\n",
       "      <td>21076.000000</td>\n",
       "      <td>21076.000000</td>\n",
       "      <td>21076.000000</td>\n",
       "    </tr>\n",
       "    <tr>\n",
       "      <th>mean</th>\n",
       "      <td>15.730167</td>\n",
       "      <td>11.483678</td>\n",
       "      <td>2.620374</td>\n",
       "      <td>2.394952</td>\n",
       "      <td>53.406529</td>\n",
       "      <td>1016.187607</td>\n",
       "      <td>13.448852</td>\n",
       "      <td>1.686563</td>\n",
       "      <td>20.377491</td>\n",
       "    </tr>\n",
       "    <tr>\n",
       "      <th>std</th>\n",
       "      <td>8.829016</td>\n",
       "      <td>6.920458</td>\n",
       "      <td>1.595659</td>\n",
       "      <td>13.919481</td>\n",
       "      <td>25.827299</td>\n",
       "      <td>10.149563</td>\n",
       "      <td>11.611807</td>\n",
       "      <td>0.957593</td>\n",
       "      <td>46.084172</td>\n",
       "    </tr>\n",
       "    <tr>\n",
       "      <th>min</th>\n",
       "      <td>1.000000</td>\n",
       "      <td>0.000000</td>\n",
       "      <td>1.000000</td>\n",
       "      <td>-40.000000</td>\n",
       "      <td>2.000000</td>\n",
       "      <td>991.000000</td>\n",
       "      <td>-15.000000</td>\n",
       "      <td>0.000000</td>\n",
       "      <td>0.450000</td>\n",
       "    </tr>\n",
       "    <tr>\n",
       "      <th>25%</th>\n",
       "      <td>8.000000</td>\n",
       "      <td>5.000000</td>\n",
       "      <td>1.000000</td>\n",
       "      <td>-9.000000</td>\n",
       "      <td>31.000000</td>\n",
       "      <td>1008.000000</td>\n",
       "      <td>3.000000</td>\n",
       "      <td>1.000000</td>\n",
       "      <td>1.790000</td>\n",
       "    </tr>\n",
       "    <tr>\n",
       "      <th>50%</th>\n",
       "      <td>16.000000</td>\n",
       "      <td>11.000000</td>\n",
       "      <td>2.000000</td>\n",
       "      <td>3.000000</td>\n",
       "      <td>54.000000</td>\n",
       "      <td>1016.000000</td>\n",
       "      <td>15.000000</td>\n",
       "      <td>2.000000</td>\n",
       "      <td>4.920000</td>\n",
       "    </tr>\n",
       "    <tr>\n",
       "      <th>75%</th>\n",
       "      <td>23.000000</td>\n",
       "      <td>17.000000</td>\n",
       "      <td>4.000000</td>\n",
       "      <td>15.000000</td>\n",
       "      <td>76.000000</td>\n",
       "      <td>1024.000000</td>\n",
       "      <td>23.000000</td>\n",
       "      <td>2.000000</td>\n",
       "      <td>18.320000</td>\n",
       "    </tr>\n",
       "    <tr>\n",
       "      <th>max</th>\n",
       "      <td>31.000000</td>\n",
       "      <td>23.000000</td>\n",
       "      <td>6.000000</td>\n",
       "      <td>26.000000</td>\n",
       "      <td>100.000000</td>\n",
       "      <td>1043.000000</td>\n",
       "      <td>40.000000</td>\n",
       "      <td>3.000000</td>\n",
       "      <td>490.380000</td>\n",
       "    </tr>\n",
       "  </tbody>\n",
       "</table>\n",
       "</div>"
      ],
      "text/plain": [
       "                day          hour     PM_Dongsi          DEWP          HUMI  \\\n",
       "count  21076.000000  21076.000000  21076.000000  21076.000000  21076.000000   \n",
       "mean      15.730167     11.483678      2.620374      2.394952     53.406529   \n",
       "std        8.829016      6.920458      1.595659     13.919481     25.827299   \n",
       "min        1.000000      0.000000      1.000000    -40.000000      2.000000   \n",
       "25%        8.000000      5.000000      1.000000     -9.000000     31.000000   \n",
       "50%       16.000000     11.000000      2.000000      3.000000     54.000000   \n",
       "75%       23.000000     17.000000      4.000000     15.000000     76.000000   \n",
       "max       31.000000     23.000000      6.000000     26.000000    100.000000   \n",
       "\n",
       "               PRES          TEMP          cbwd           Iws  \n",
       "count  21076.000000  21076.000000  21076.000000  21076.000000  \n",
       "mean    1016.187607     13.448852      1.686563     20.377491  \n",
       "std       10.149563     11.611807      0.957593     46.084172  \n",
       "min      991.000000    -15.000000      0.000000      0.450000  \n",
       "25%     1008.000000      3.000000      1.000000      1.790000  \n",
       "50%     1016.000000     15.000000      2.000000      4.920000  \n",
       "75%     1024.000000     23.000000      2.000000     18.320000  \n",
       "max     1043.000000     40.000000      3.000000    490.380000  "
      ]
     },
     "execution_count": 27,
     "metadata": {},
     "output_type": "execute_result"
    }
   ],
   "source": [
    "X_train_val_fs.describe()"
   ]
  },
  {
   "cell_type": "markdown",
   "metadata": {},
   "source": [
    "# 3 Model Selection"
   ]
  },
  {
   "cell_type": "markdown",
   "metadata": {},
   "source": [
    "### 3.1 Function Definition"
   ]
  },
  {
   "cell_type": "code",
   "execution_count": 28,
   "metadata": {},
   "outputs": [],
   "source": [
    "from sklearn.model_selection import GridSearchCV\n",
    "from sklearn.metrics import mean_absolute_error\n",
    "from sklearn.metrics import r2_score\n",
    "\n",
    "from sklearn.metrics import confusion_matrix\n",
    "from sklearn.utils.multiclass import unique_labels\n",
    "import itertools"
   ]
  },
  {
   "cell_type": "code",
   "execution_count": 29,
   "metadata": {},
   "outputs": [],
   "source": [
    "def plot_confusion_matrix(cm,\n",
    "                          target_names,\n",
    "                          title='Confusion matrix',\n",
    "                          cmap=None,\n",
    "                          normalize=True):\n",
    "    accuracy = np.trace(cm) / float(np.sum(cm))\n",
    "    misclass = 1 - accuracy\n",
    "\n",
    "    if cmap is None:\n",
    "        cmap = plt.get_cmap('Blues')\n",
    "\n",
    "    plt.figure(figsize=(8, 6))\n",
    "    plt.imshow(cm, interpolation='nearest', cmap=cmap)\n",
    "    plt.title(title)\n",
    "    plt.colorbar()\n",
    "\n",
    "    if target_names is not None:\n",
    "        tick_marks = np.arange(len(target_names))\n",
    "        plt.xticks(tick_marks, target_names)\n",
    "        plt.yticks(tick_marks, target_names)\n",
    "\n",
    "    if normalize:\n",
    "        cm = cm.astype('float') / cm.sum(axis=1)[:, np.newaxis]\n",
    "\n",
    "    thresh = cm.max() / 1.5 if normalize else cm.max() / 2\n",
    "    for i, j in itertools.product(range(cm.shape[0]), range(cm.shape[1])):\n",
    "        if normalize:\n",
    "            plt.text(j, i, \"{:0.4f}\".format(cm[i, j]),\n",
    "                     horizontalalignment=\"center\",\n",
    "                     color=\"white\" if cm[i, j] > thresh else \"black\")\n",
    "        else:\n",
    "            plt.text(j, i, \"{:,}\".format(cm[i, j]),\n",
    "                     horizontalalignment=\"center\",\n",
    "                     color=\"white\" if cm[i, j] > thresh else \"black\")\n",
    "\n",
    "    plt.tight_layout()\n",
    "    plt.ylabel('True label')\n",
    "    plt.xlabel('Predicted label\\naccuracy={:0.4f}; misclass={:0.4f}'.format(accuracy, misclass))\n",
    "    plt.show()"
   ]
  },
  {
   "cell_type": "code",
   "execution_count": 30,
   "metadata": {},
   "outputs": [],
   "source": [
    "def model_selection(clf, x_train, y_train, x_test, y_test):\n",
    "    clf.fit(x_train,y_train)\n",
    "    y_test_pred=clf.predict(x_test)\n",
    "    score=clf.score(x_test,y_test)\n",
    "    mae=mean_absolute_error(y_test,y_test_pred)\n",
    "    r2=r2_score(y_test,y_test_pred)\n",
    "    print(\"Model Evaluation over Test Data \\nAccuracy Score: %f;  Mean Absolute Error: %f;  R**2 Score: %f\" %(score,mae,r2))\n",
    "    cfm = confusion_matrix(y_test, y_test_pred)\n",
    "    plot_confusion_matrix(cfm, normalize = False, target_names = ['1','2','3','4','5','6'],title = \"Confusion Matrix over Test Data\")"
   ]
  },
  {
   "cell_type": "code",
   "execution_count": 31,
   "metadata": {},
   "outputs": [],
   "source": [
    "def test_grid_search(clf, x_test, y_test):\n",
    "    y_test_pred=clf.predict(x_test)\n",
    "    score=clf.score(x_test,y_test)\n",
    "    mae=mean_absolute_error(y_test,y_test_pred)\n",
    "    r2=r2_score(y_test,y_test_pred)\n",
    "    print(\"Model Evaluation over Test Data After Grid Search \\nAccuracy Score: %f;  Mean Absolute Error: %f;  R**2 Score: %f\" %(score,mae,r2))\n",
    "    cfm = confusion_matrix(y_test, y_test_pred)\n",
    "    plot_confusion_matrix(cfm, normalize = False, target_names = ['1','2','3','4','5','6'],title = \"Confusion Matrix over Test Data\")"
   ]
  },
  {
   "cell_type": "markdown",
   "metadata": {},
   "source": [
    "### 3.2 KNN"
   ]
  },
  {
   "cell_type": "code",
   "execution_count": 32,
   "metadata": {
    "scrolled": true
   },
   "outputs": [],
   "source": [
    "from sklearn import neighbors\n",
    "KNN_clf = KNeighborsClassifier()"
   ]
  },
  {
   "cell_type": "code",
   "execution_count": 33,
   "metadata": {
    "scrolled": true
   },
   "outputs": [
    {
     "name": "stdout",
     "output_type": "stream",
     "text": [
      "Model Evaluation over Test Data \n",
      "Accuracy Score: 0.565913;  Mean Absolute Error: 0.660522;  R**2 Score: 0.509904\n"
     ]
    },
    {
     "data": {
      "image/png": "[encoded data removed]",
      "text/plain": [
       "<Figure size 576x432 with 2 Axes>"
      ]
     },
     "metadata": {
      "needs_background": "light"
     },
     "output_type": "display_data"
    }
   ],
   "source": [
    "model_selection(KNN_clf, X_train_fs, Y_train,X_test_fs,Y_test)"
   ]
  },
  {
   "cell_type": "markdown",
   "metadata": {},
   "source": [
    "##### 3.2.1 KNN GridSearch"
   ]
  },
  {
   "cell_type": "code",
   "execution_count": 34,
   "metadata": {},
   "outputs": [],
   "source": [
    "param_grid = [\n",
    "    {\n",
    "    'weights':['uniform'],\n",
    "    'n_neighbors':[i for i in range(1,10)]\n",
    "    },\n",
    "    {\n",
    "    'weights':['distance'],\n",
    "    'n_neighbors':[i for i in range(1,10)],\n",
    "    'p':[i for i in range(1,3)]\n",
    "    }\n",
    "]"
   ]
  },
  {
   "cell_type": "code",
   "execution_count": 35,
   "metadata": {},
   "outputs": [
    {
     "data": {
      "text/plain": [
       "GridSearchCV(cv='warn', error_score='raise-deprecating',\n",
       "       estimator=KNeighborsClassifier(algorithm='auto', leaf_size=30, metric='minkowski',\n",
       "           metric_params=None, n_jobs=None, n_neighbors=5, p=2,\n",
       "           weights='uniform'),\n",
       "       fit_params=None, iid='warn', n_jobs=-1,\n",
       "       param_grid=[{'weights': ['uniform'], 'n_neighbors': [1, 2, 3, 4, 5, 6, 7, 8, 9]}, {'weights': ['distance'], 'n_neighbors': [1, 2, 3, 4, 5, 6, 7, 8, 9], 'p': [1, 2]}],\n",
       "       pre_dispatch='2*n_jobs', refit=True, return_train_score='warn',\n",
       "       scoring=None, verbose=0)"
      ]
     },
     "execution_count": 35,
     "metadata": {},
     "output_type": "execute_result"
    }
   ],
   "source": [
    "KNN_clf_grid = KNeighborsClassifier()\n",
    "grid_search_knn = GridSearchCV(KNN_clf_grid, param_grid=param_grid,n_jobs=-1)\n",
    "grid_search_knn.fit(X_train_val_fs,Y_train_val)"
   ]
  },
  {
   "cell_type": "code",
   "execution_count": 36,
   "metadata": {
    "scrolled": true
   },
   "outputs": [
    {
     "data": {
      "text/plain": [
       "{'n_neighbors': 3, 'p': 1, 'weights': 'distance'}"
      ]
     },
     "execution_count": 36,
     "metadata": {},
     "output_type": "execute_result"
    }
   ],
   "source": [
    "grid_search_knn.best_params_"
   ]
  },
  {
   "cell_type": "code",
   "execution_count": 37,
   "metadata": {},
   "outputs": [
    {
     "name": "stdout",
     "output_type": "stream",
     "text": [
      "Model Evaluation over Test Data After Grid Search \n",
      "Accuracy Score: 0.699826;  Mean Absolute Error: 0.395478;  R**2 Score: 0.753318\n"
     ]
    },
    {
     "data": {
      "image/png": "[encoded data removed]",
      "text/plain": [
       "<Figure size 576x432 with 2 Axes>"
      ]
     },
     "metadata": {
      "needs_background": "light"
     },
     "output_type": "display_data"
    }
   ],
   "source": [
    "best_knn_clf=grid_search_knn.best_estimator_\n",
    "test_grid_search(best_knn_clf, X_test_fs, Y_test)"
   ]
  },
  {
   "cell_type": "markdown",
   "metadata": {},
   "source": [
    "### 3.3 Random Forest"
   ]
  },
  {
   "cell_type": "code",
   "execution_count": 38,
   "metadata": {},
   "outputs": [],
   "source": [
    "from sklearn.ensemble import RandomForestClassifier"
   ]
  },
  {
   "cell_type": "code",
   "execution_count": 39,
   "metadata": {
    "scrolled": true
   },
   "outputs": [
    {
     "name": "stdout",
     "output_type": "stream",
     "text": [
      "Model Evaluation over Test Data \n",
      "Accuracy Score: 0.766957;  Mean Absolute Error: 0.259130;  R**2 Score: 0.879077\n"
     ]
    },
    {
     "data": {
      "image/png": "[encoded data removed]",
      "text/plain": [
       "<Figure size 576x432 with 2 Axes>"
      ]
     },
     "metadata": {
      "needs_background": "light"
     },
     "output_type": "display_data"
    }
   ],
   "source": [
    "rf_clf=RandomForestClassifier(n_jobs = -1,bootstrap = True, random_state=666)\n",
    "model_selection(rf_clf,X_train_fs, Y_train,X_test_fs,Y_test)"
   ]
  },
  {
   "cell_type": "markdown",
   "metadata": {},
   "source": [
    "##### 3.3.1 Random Forest GridSearch"
   ]
  },
  {
   "cell_type": "code",
   "execution_count": 40,
   "metadata": {},
   "outputs": [],
   "source": [
    "param_grid = [\n",
    "    {\n",
    "        'max_depth': [i for i in range(1,6)],\n",
    "        'n_estimators': [i for i in range(80,130)],\n",
    "        'bootstrap': [True],\n",
    "        'random_state': [666]\n",
    "    }\n",
    "]"
   ]
  },
  {
   "cell_type": "code",
   "execution_count": 41,
   "metadata": {},
   "outputs": [
    {
     "data": {
      "text/plain": [
       "GridSearchCV(cv=3, error_score='raise-deprecating',\n",
       "       estimator=RandomForestClassifier(bootstrap=True, class_weight=None, criterion='gini',\n",
       "            max_depth=None, max_features='auto', max_leaf_nodes=None,\n",
       "            min_impurity_decrease=0.0, min_impurity_split=None,\n",
       "            min_samples_leaf=1, min_samples_split=2,\n",
       "            min_weight_fraction_leaf=0.0, n_estimators='warn', n_jobs=None,\n",
       "            oob_score=False, random_state=None, verbose=0,\n",
       "            warm_start=False),\n",
       "       fit_params=None, iid='warn', n_jobs=-1,\n",
       "       param_grid=[{'max_depth': [1, 2, 3, 4, 5], 'n_estimators': [80, 81, 82, 83, 84, 85, 86, 87, 88, 89, 90, 91, 92, 93, 94, 95, 96, 97, 98, 99, 100, 101, 102, 103, 104, 105, 106, 107, 108, 109, 110, 111, 112, 113, 114, 115, 116, 117, 118, 119, 120, 121, 122, 123, 124, 125, 126, 127, 128, 129], 'bootstrap': [True], 'random_state': [666]}],\n",
       "       pre_dispatch='2*n_jobs', refit=True, return_train_score='warn',\n",
       "       scoring=None, verbose=0)"
      ]
     },
     "execution_count": 41,
     "metadata": {},
     "output_type": "execute_result"
    }
   ],
   "source": [
    "rf_clf_grid = RandomForestClassifier()\n",
    "grid_search_rf = GridSearchCV(rf_clf_grid,param_grid,cv=3,n_jobs=-1)\n",
    "grid_search_rf.fit(X_train_val_fs,Y_train_val)"
   ]
  },
  {
   "cell_type": "code",
   "execution_count": 42,
   "metadata": {},
   "outputs": [
    {
     "name": "stdout",
     "output_type": "stream",
     "text": [
      "Model Evaluation over Test Data After Grid Search \n",
      "Accuracy Score: 0.735304;  Mean Absolute Error: 0.296696;  R**2 Score: 0.859730\n"
     ]
    },
    {
     "data": {
      "image/png": "[encoded data removed]",
      "text/plain": [
       "<Figure size 576x432 with 2 Axes>"
      ]
     },
     "metadata": {
      "needs_background": "light"
     },
     "output_type": "display_data"
    }
   ],
   "source": [
    "best_rf_clf=grid_search_rf.best_estimator_\n",
    "test_grid_search(best_rf_clf, X_test_fs, Y_test)"
   ]
  },
  {
   "cell_type": "markdown",
   "metadata": {},
   "source": [
    "### 3.4 Gradient Boosting"
   ]
  },
  {
   "cell_type": "code",
   "execution_count": 43,
   "metadata": {},
   "outputs": [],
   "source": [
    "from sklearn.tree import DecisionTreeClassifier\n",
    "from sklearn.ensemble import GradientBoostingClassifier"
   ]
  },
  {
   "cell_type": "code",
   "execution_count": 44,
   "metadata": {},
   "outputs": [
    {
     "name": "stdout",
     "output_type": "stream",
     "text": [
      "Model Evaluation over Test Data \n",
      "Accuracy Score: 0.759304;  Mean Absolute Error: 0.260174;  R**2 Score: 0.882607\n"
     ]
    },
    {
     "data": {
      "image/png": "[encoded data removed]",
      "text/plain": [
       "<Figure size 576x432 with 2 Axes>"
      ]
     },
     "metadata": {
      "needs_background": "light"
     },
     "output_type": "display_data"
    }
   ],
   "source": [
    "gb_clf = GradientBoostingClassifier(random_state=666)\n",
    "model_selection(gb_clf, X_train_fs, Y_train,X_test_fs,Y_test)"
   ]
  },
  {
   "cell_type": "markdown",
   "metadata": {},
   "source": [
    "##### 3.4.1 Gradient Boosting GridSearch"
   ]
  },
  {
   "cell_type": "code",
   "execution_count": 45,
   "metadata": {},
   "outputs": [],
   "source": [
    "param_grid = [\n",
    "    {\n",
    "        'max_features': [i for i in range(1,4)],\n",
    "        'max_depth': [i for i in range(1,5)],\n",
    "        'n_estimators':[i for i in range(20,35)],\n",
    "        'random_state': [666]\n",
    "    }\n",
    "]"
   ]
  },
  {
   "cell_type": "code",
   "execution_count": 46,
   "metadata": {
    "scrolled": true
   },
   "outputs": [
    {
     "data": {
      "text/plain": [
       "GridSearchCV(cv=3, error_score='raise-deprecating',\n",
       "       estimator=GradientBoostingClassifier(criterion='friedman_mse', init=None,\n",
       "              learning_rate=0.1, loss='deviance', max_depth=3,\n",
       "              max_features=None, max_leaf_nodes=None,\n",
       "              min_impurity_decrease=0.0, min_impurity_split=None,\n",
       "              min_samples_leaf=1, min_sampl...      subsample=1.0, tol=0.0001, validation_fraction=0.1,\n",
       "              verbose=0, warm_start=False),\n",
       "       fit_params=None, iid='warn', n_jobs=-1,\n",
       "       param_grid=[{'max_features': [1, 2, 3], 'max_depth': [1, 2, 3, 4], 'n_estimators': [20, 21, 22, 23, 24, 25, 26, 27, 28, 29, 30, 31, 32, 33, 34], 'random_state': [666]}],\n",
       "       pre_dispatch='2*n_jobs', refit=True, return_train_score='warn',\n",
       "       scoring=None, verbose=0)"
      ]
     },
     "execution_count": 46,
     "metadata": {},
     "output_type": "execute_result"
    }
   ],
   "source": [
    "gb_clf_grid = GradientBoostingClassifier()\n",
    "grid_search_gb = GridSearchCV(gb_clf_grid,param_grid,cv=3,n_jobs=-1)\n",
    "grid_search_gb.fit(X_train_val_fs,Y_train_val)"
   ]
  },
  {
   "cell_type": "code",
   "execution_count": 47,
   "metadata": {},
   "outputs": [
    {
     "data": {
      "text/plain": [
       "{'max_depth': 4, 'max_features': 3, 'n_estimators': 34, 'random_state': 666}"
      ]
     },
     "execution_count": 47,
     "metadata": {},
     "output_type": "execute_result"
    }
   ],
   "source": [
    "grid_search_gb.best_params_"
   ]
  },
  {
   "cell_type": "code",
   "execution_count": 48,
   "metadata": {
    "scrolled": true
   },
   "outputs": [
    {
     "name": "stdout",
     "output_type": "stream",
     "text": [
      "Model Evaluation over Test Data After Grid Search \n",
      "Accuracy Score: 0.756522;  Mean Absolute Error: 0.265391;  R**2 Score: 0.879339\n"
     ]
    },
    {
     "data": {
      "image/png": "[encoded data removed]",
      "text/plain": [
       "<Figure size 576x432 with 2 Axes>"
      ]
     },
     "metadata": {
      "needs_background": "light"
     },
     "output_type": "display_data"
    }
   ],
   "source": [
    "best_gd_clf=grid_search_gb.best_estimator_\n",
    "test_grid_search(best_gd_clf, X_test_fs, Y_test)"
   ]
  },
  {
   "cell_type": "markdown",
   "metadata": {},
   "source": [
    "# 4 Imbalanced learn"
   ]
  },
  {
   "cell_type": "code",
   "execution_count": 51,
   "metadata": {},
   "outputs": [
    {
     "name": "stdout",
     "output_type": "stream",
     "text": [
      "(18125, 9) (18125,)\n"
     ]
    }
   ],
   "source": [
    "print(X_train_fs.shape, Y_train.shape)"
   ]
  },
  {
   "cell_type": "code",
   "execution_count": 50,
   "metadata": {},
   "outputs": [
    {
     "name": "stdout",
     "output_type": "stream",
     "text": [
      "[(1, 5761), (2, 5761), (3, 5761), (4, 5761), (5, 5761), (6, 5761)]\n",
      "(34566, 9) (34566,)\n"
     ]
    }
   ],
   "source": [
    "from imblearn.over_sampling import RandomOverSampler\n",
    "ros = RandomOverSampler(random_state=0)\n",
    "X_train_resampled, Y_train_resampled = ros.fit_resample(X_train_fs, Y_train)\n",
    "from collections import Counter\n",
    "print(sorted(Counter(Y_train_resampled).items()))\n",
    "print(X_train_resampled.shape, Y_train_resampled.shape)"
   ]
  },
  {
   "cell_type": "code",
   "execution_count": 53,
   "metadata": {},
   "outputs": [],
   "source": [
    "X_train_val_resampled, Y_train_val_resampled = ros.fit_resample(X_train_val_fs, Y_train_val)"
   ]
  },
  {
   "cell_type": "markdown",
   "metadata": {},
   "source": [
    "## 4.1 Gradient Boosting"
   ]
  },
  {
   "cell_type": "code",
   "execution_count": 52,
   "metadata": {},
   "outputs": [
    {
     "name": "stdout",
     "output_type": "stream",
     "text": [
      "Model Evaluation over Test Data \n",
      "Accuracy Score: 0.756522;  Mean Absolute Error: 0.260870;  R**2 Score: 0.884960\n"
     ]
    },
    {
     "data": {
      "image/png": "[encoded data removed]",
      "text/plain": [
       "<Figure size 576x432 with 2 Axes>"
      ]
     },
     "metadata": {
      "needs_background": "light"
     },
     "output_type": "display_data"
    }
   ],
   "source": [
    "gb_clf_il = GradientBoostingClassifier(random_state=666)\n",
    "model_selection(gb_clf_il, X_train_resampled, Y_train_resampled,X_test_fs,Y_test)"
   ]
  },
  {
   "cell_type": "markdown",
   "metadata": {},
   "source": [
    "##### 4.4.1 Gradient Boosting GridSearch"
   ]
  },
  {
   "cell_type": "code",
   "execution_count": 54,
   "metadata": {},
   "outputs": [],
   "source": [
    "param_grid = [\n",
    "    {\n",
    "        'max_features': [i for i in range(1,4)],\n",
    "        'max_depth': [i for i in range(1,5)],\n",
    "        'n_estimators':[i for i in range(20,35)],\n",
    "        'random_state': [666]\n",
    "    }\n",
    "]"
   ]
  },
  {
   "cell_type": "code",
   "execution_count": 55,
   "metadata": {},
   "outputs": [
    {
     "data": {
      "text/plain": [
       "GridSearchCV(cv=3, error_score='raise-deprecating',\n",
       "       estimator=GradientBoostingClassifier(criterion='friedman_mse', init=None,\n",
       "              learning_rate=0.1, loss='deviance', max_depth=3,\n",
       "              max_features=None, max_leaf_nodes=None,\n",
       "              min_impurity_decrease=0.0, min_impurity_split=None,\n",
       "              min_samples_leaf=1, min_sampl...      subsample=1.0, tol=0.0001, validation_fraction=0.1,\n",
       "              verbose=0, warm_start=False),\n",
       "       fit_params=None, iid='warn', n_jobs=-1,\n",
       "       param_grid=[{'max_features': [1, 2, 3], 'max_depth': [1, 2, 3, 4], 'n_estimators': [20, 21, 22, 23, 24, 25, 26, 27, 28, 29, 30, 31, 32, 33, 34], 'random_state': [666]}],\n",
       "       pre_dispatch='2*n_jobs', refit=True, return_train_score='warn',\n",
       "       scoring=None, verbose=0)"
      ]
     },
     "execution_count": 55,
     "metadata": {},
     "output_type": "execute_result"
    }
   ],
   "source": [
    "gb_clf_grid_il = GradientBoostingClassifier()\n",
    "grid_search_gb_il = GridSearchCV(gb_clf_grid_il,param_grid,cv=3,n_jobs=-1)\n",
    "grid_search_gb_il.fit(X_train_val_resampled,Y_train_val_resampled)"
   ]
  },
  {
   "cell_type": "code",
   "execution_count": 56,
   "metadata": {},
   "outputs": [
    {
     "data": {
      "text/plain": [
       "{'max_depth': 4, 'max_features': 3, 'n_estimators': 34, 'random_state': 666}"
      ]
     },
     "execution_count": 56,
     "metadata": {},
     "output_type": "execute_result"
    }
   ],
   "source": [
    "grid_search_gb_il.best_params_"
   ]
  },
  {
   "cell_type": "code",
   "execution_count": 57,
   "metadata": {},
   "outputs": [
    {
     "name": "stdout",
     "output_type": "stream",
     "text": [
      "Model Evaluation over Test Data After Grid Search \n",
      "Accuracy Score: 0.754435;  Mean Absolute Error: 0.265739;  R**2 Score: 0.880254\n"
     ]
    },
    {
     "data": {
      "image/png": "[encoded data removed]",
      "text/plain": [
       "<Figure size 576x432 with 2 Axes>"
      ]
     },
     "metadata": {
      "needs_background": "light"
     },
     "output_type": "display_data"
    }
   ],
   "source": [
    "best_gd_clf_il=grid_search_gb_il.best_estimator_\n",
    "test_grid_search(best_gd_clf_il, X_test_fs, Y_test)"
   ]
  },
  {
   "cell_type": "code",
   "execution_count": null,
   "metadata": {},
   "outputs": [],
   "source": []
  },
  {
   "cell_type": "code",
   "execution_count": null,
   "metadata": {},
   "outputs": [],
   "source": []
  },
  {
   "cell_type": "code",
   "execution_count": null,
   "metadata": {},
   "outputs": [],
   "source": []
  },
  {
   "cell_type": "code",
   "execution_count": null,
   "metadata": {},
   "outputs": [],
   "source": []
  },
  {
   "cell_type": "code",
   "execution_count": null,
   "metadata": {},
   "outputs": [],
   "source": []
  }
 ],
 "metadata": {
  "kernelspec": {
   "display_name": "Python [default]",
   "language": "python",
   "name": "python3"
  },
  "language_info": {
   "codemirror_mode": {
    "name": "ipython",
    "version": 3
   },
   "file_extension": ".py",
   "mimetype": "text/x-python",
   "name": "python",
   "nbconvert_exporter": "python",
   "pygments_lexer": "ipython3",
   "version": "3.6.8"
  }
 },
 "nbformat": 4,
 "nbformat_minor": 2
}
